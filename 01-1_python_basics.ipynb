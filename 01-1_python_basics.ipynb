{
 "cells": [
  {
   "cell_type": "code",
   "execution_count": 2,
   "id": "4a3de413-8411-44c5-9e8a-2b564c113b62",
   "metadata": {},
   "outputs": [
    {
     "data": {
      "text/plain": [
       "[10, 25, 30, 40]"
      ]
     },
     "execution_count": 2,
     "metadata": {},
     "output_type": "execute_result"
    }
   ],
   "source": [
    "nums = [10, 20, 30]\n",
    "nums.append(40); nums[1]=25; nums"
   ]
  },
  {
   "cell_type": "code",
   "execution_count": 3,
   "id": "6cb02248-9be3-4a87-beb4-8b446bb68345",
   "metadata": {},
   "outputs": [
    {
     "data": {
      "text/plain": [
       "(dict_keys(['name', 'age']),\n",
       " dict_values(['Alice', 26]),\n",
       " dict_items([('name', 'Alice'), ('age', 26)]))"
      ]
     },
     "execution_count": 3,
     "metadata": {},
     "output_type": "execute_result"
    }
   ],
   "source": [
    "user = {\"name\":\"Alice\", \"age\":25}\n",
    "user[\"age\"]= 26\n",
    "user.get(\"job\", \"Unknow\")\n",
    "user.keys(), user.values(), user.items()"
   ]
  },
  {
   "cell_type": "code",
   "execution_count": 4,
   "id": "ce114e10-d049-44e9-b5cb-f388b46f638f",
   "metadata": {},
   "outputs": [
    {
     "data": {
      "text/plain": [
       "'13를 5로 나누면 몫 2, 나머지3'"
      ]
     },
     "execution_count": 4,
     "metadata": {},
     "output_type": "execute_result"
    }
   ],
   "source": [
    "a, b = 13, 5\n",
    "q = a//b\n",
    "r= a%b\n",
    "res = f\"{a}를 {b}로 나누면 몫 {q}, 나머지{r}\"\n",
    "res"
   ]
  },
  {
   "cell_type": "code",
   "execution_count": 6,
   "id": "16405792-1f05-491b-9243-29fafe37b2ec",
   "metadata": {},
   "outputs": [
    {
     "data": {
      "text/plain": [
       "'DATE=2025-09-13, CITY= SEOUL, COUNTRY=KOREA'"
      ]
     },
     "execution_count": 6,
     "metadata": {},
     "output_type": "execute_result"
    }
   ],
   "source": [
    "raw = \" 2025/09/13, Seoul,Korea \"\n",
    "# 공백 제거 -> 날짜 구분자 바꾸기 -> 대문자화\n",
    "\n",
    "clean = raw. strip().replace(\"/\",\"-\").upper()\n",
    "parts = clean.split(\",\")\n",
    "date, city, country = parts \n",
    "f\"DATE={date}, CITY={city}, COUNTRY={country}\""
   ]
  },
  {
   "cell_type": "code",
   "execution_count": 7,
   "id": "cef32075-0074-44ae-8c53-1e7884e66c1f",
   "metadata": {},
   "outputs": [
    {
     "data": {
      "text/plain": [
       "'홍길동님의 키는    173.3cm'"
      ]
     },
     "execution_count": 7,
     "metadata": {},
     "output_type": "execute_result"
    }
   ],
   "source": [
    "name = \"홍길동\"\n",
    "height = 173.256\n",
    "f\"{name}님의 키는 {height:8.1f}cm\""
   ]
  },
  {
   "cell_type": "code",
   "execution_count": 8,
   "id": "4fbe3382-5d42-462e-952f-78d3ed8d9543",
   "metadata": {},
   "outputs": [
    {
     "data": {
      "text/plain": [
       "((True, True), (True, False))"
      ]
     },
     "execution_count": 8,
     "metadata": {},
     "output_type": "execute_result"
    }
   ],
   "source": [
    "a = [1,2,3]\n",
    "b = a \n",
    "c = [1,2,3]\n",
    "(a==b, a is b), (a==c, a is c)"
   ]
  },
  {
   "cell_type": "code",
   "execution_count": null,
   "id": "9bb15de0-a269-4085-873e-a07aa817e56c",
   "metadata": {},
   "outputs": [],
   "source": []
  }
 ],
 "metadata": {
  "kernelspec": {
   "display_name": "Python 3 (ipykernel)",
   "language": "python",
   "name": "python3"
  },
  "language_info": {
   "codemirror_mode": {
    "name": "ipython",
    "version": 3
   },
   "file_extension": ".py",
   "mimetype": "text/x-python",
   "name": "python",
   "nbconvert_exporter": "python",
   "pygments_lexer": "ipython3",
   "version": "3.13.5"
  }
 },
 "nbformat": 4,
 "nbformat_minor": 5
}
