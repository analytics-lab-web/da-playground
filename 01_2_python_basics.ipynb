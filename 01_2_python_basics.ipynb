{
 "cells": [
  {
   "cell_type": "code",
   "execution_count": 1,
   "id": "08bf4401-1311-4650-91dd-22ea66fca021",
   "metadata": {},
   "outputs": [
    {
     "data": {
      "text/plain": [
       "'B'"
      ]
     },
     "execution_count": 1,
     "metadata": {},
     "output_type": "execute_result"
    }
   ],
   "source": [
    "score = 87\n",
    "\n",
    "if score >= 90:\n",
    "    grade = \"A\"\n",
    "elif score >= 80:\n",
    "    grade = \"B\"\n",
    "else:\n",
    "    grade = \"C 이하\"\n",
    "\n",
    "grade"
   ]
  },
  {
   "cell_type": "code",
   "execution_count": 2,
   "id": "5ddbd042-c768-437d-9553-28927222bd16",
   "metadata": {},
   "outputs": [
    {
     "data": {
      "text/plain": [
       "(True, True, True, True)"
      ]
     },
     "execution_count": 2,
     "metadata": {},
     "output_type": "execute_result"
    }
   ],
   "source": [
    "x = 7\n",
    "(0<x<= 10), (x%2 ==1), (x>10 or x ==7), (not (x<5))"
   ]
  },
  {
   "cell_type": "code",
   "execution_count": 3,
   "id": "ab444da8-8234-418f-b74d-03ab13ef3eaf",
   "metadata": {},
   "outputs": [
    {
     "data": {
      "text/plain": [
       "[False, False, False, False, True, True]"
      ]
     },
     "execution_count": 3,
     "metadata": {},
     "output_type": "execute_result"
    }
   ],
   "source": [
    "vals = [0,\"\",[],None,\"text\",3.14]\n",
    "[bool(v) for v in vals]"
   ]
  },
  {
   "cell_type": "code",
   "execution_count": 6,
   "id": "7a68ecd0-c609-4814-84a9-4f9d05284ba4",
   "metadata": {},
   "outputs": [
    {
     "data": {
      "text/plain": [
       "'odd'"
      ]
     },
     "execution_count": 6,
     "metadata": {},
     "output_type": "execute_result"
    }
   ],
   "source": [
    "n = 13\n",
    "\n",
    "if n % 2 == 0:\n",
    "    ans1 = \"even\"\n",
    "else:\n",
    "    ans1 = \"odd\"\n",
    "\n",
    "assert ans1 in (\"even\", \"odd\") #자동채점 같은 연습문제에서 많이 쓰는 명령\n",
    "ans1"
   ]
  },
  {
   "cell_type": "code",
   "execution_count": 7,
   "id": "af0a56dd-feb8-4506-9d31-32f8000a6184",
   "metadata": {},
   "outputs": [
    {
     "data": {
      "text/plain": [
       "'OK'"
      ]
     },
     "execution_count": 7,
     "metadata": {},
     "output_type": "execute_result"
    }
   ],
   "source": [
    "user_input = \"hello\" # \"\"로 바꿔 재실험\n",
    "\n",
    "if user_input:\n",
    "    ans2 = \"OK\"\n",
    "else:\n",
    "    ans2 = \"EMPTY\"\n",
    "\n",
    "assert ans2 in (\"OK\", \"EMPTY\")\n",
    "ans2"
   ]
  },
  {
   "cell_type": "code",
   "execution_count": 1,
   "id": "7af390dc-e1d2-47d0-9620-976d4ebea914",
   "metadata": {},
   "outputs": [
    {
     "data": {
      "text/plain": [
       "'OK'"
      ]
     },
     "execution_count": 1,
     "metadata": {},
     "output_type": "execute_result"
    }
   ],
   "source": [
    "user_input = \"dd\" # \"\"로 바꿔 재실험\n",
    "\n",
    "if user_input:\n",
    "    ans2 = \"OK\"\n",
    "else:\n",
    "    ans2 = \"EMPTY\"\n",
    "\n",
    "assert ans2 in (\"OK\", \"EMPTY\")\n",
    "ans2"
   ]
  },
  {
   "cell_type": "code",
   "execution_count": 2,
   "id": "a7801df7-c3a3-4493-8101-698b2d7081c6",
   "metadata": {},
   "outputs": [
    {
     "data": {
      "text/plain": [
       "55"
      ]
     },
     "execution_count": 2,
     "metadata": {},
     "output_type": "execute_result"
    }
   ],
   "source": [
    "s= 0\n",
    "for i in range(1,11):\n",
    "    s +=i\n",
    "s"
   ]
  },
  {
   "cell_type": "code",
   "execution_count": 7,
   "id": "19db28da-0f1d-4b9a-aea1-4b4708af6fc4",
   "metadata": {},
   "outputs": [
    {
     "data": {
      "text/plain": [
       "(False, 3)"
      ]
     },
     "execution_count": 7,
     "metadata": {},
     "output_type": "execute_result"
    }
   ],
   "source": [
    "secret = \"1234\"\n",
    "attempts = 0\n",
    "unlocked = False\n",
    "\n",
    "while attempts < 3:\n",
    "    guess = \"0000\"  # 여기서는 입력 대신 고정값; 나중에 바꿔보세요.\n",
    "    if guess == secret:\n",
    "        unlocked = True\n",
    "        break\n",
    "    attempts += 1\n",
    "\n",
    "unlocked, attempts"
   ]
  },
  {
   "cell_type": "code",
   "execution_count": 9,
   "id": "8cb30f8b-7850-49af-8c18-8943b728676d",
   "metadata": {},
   "outputs": [
    {
     "data": {
      "text/plain": [
       "35"
      ]
     },
     "execution_count": 9,
     "metadata": {},
     "output_type": "execute_result"
    }
   ],
   "source": [
    "count = 0\n",
    "for i in range(1,130) :\n",
    "    if i % 3 ==0 and i % 5!=0:\n",
    "        count += 1\n",
    "\n",
    "ans3 = count\n",
    "ans3"
   ]
  },
  {
   "cell_type": "code",
   "execution_count": 16,
   "id": "9de082b8-ff3c-448e-9d55-e41c04deab8e",
   "metadata": {},
   "outputs": [
    {
     "data": {
      "text/plain": [
       "1"
      ]
     },
     "execution_count": 16,
     "metadata": {},
     "output_type": "execute_result"
    }
   ],
   "source": [
    "nums = [1, 3, 5, 7, 9, 11]\n",
    "ans4 = 1\n",
    "for idx, val in enumerate(nums):\n",
    "    if val % 2 == 0 :\n",
    "        ans4 = idx\n",
    "        break\n",
    "ans4"
   ]
  },
  {
   "cell_type": "code",
   "execution_count": 5,
   "id": "9dcafaec-07e3-411c-8af6-99f916d6e4ae",
   "metadata": {},
   "outputs": [
    {
     "name": "stdout",
     "output_type": "stream",
     "text": [
      "212.0 20.0 (0, 0)\n"
     ]
    }
   ],
   "source": [
    "def c_to_f(c: float) -> float:\n",
    "    return c * 9/5 + 32\n",
    "\n",
    "def list_avg(nums: list[float]) -> float :\n",
    "    if not nums:\n",
    "        return 0,0\n",
    "    return sum(nums) / len(nums)\n",
    "\n",
    "print(c_to_f(100), list_avg([10,20,30]), list_avg([]))"
   ]
  },
  {
   "cell_type": "code",
   "execution_count": 6,
   "id": "12518c27-6bec-45da-802d-e1b892f7b73a",
   "metadata": {},
   "outputs": [
    {
     "data": {
      "text/plain": [
       "(1, 15, 55)"
      ]
     },
     "execution_count": 6,
     "metadata": {},
     "output_type": "execute_result"
    }
   ],
   "source": [
    "def sum_to_n(n: int) -> int:\n",
    "    s = 0\n",
    "    for i in range(1, n+1):\n",
    "        s += i\n",
    "    return s\n",
    "\n",
    "sum_to_n(1), sum_to_n(5), sum_to_n(10)"
   ]
  },
  {
   "cell_type": "code",
   "execution_count": 7,
   "id": "6bc09ee8-d32d-4b77-800f-ccf659c0f771",
   "metadata": {},
   "outputs": [
    {
     "data": {
      "text/plain": [
       "(0, 3, 5)"
      ]
     },
     "execution_count": 7,
     "metadata": {},
     "output_type": "execute_result"
    }
   ],
   "source": [
    "def max_len(strs: list[str]) -> int:\n",
    "    if not strs:\n",
    "        return 0\n",
    "    m = 0\n",
    "    for s in strs:\n",
    "        if len(s) > m:\n",
    "            m = len(s)\n",
    "    return m\n",
    "max_len([]), max_len([\"a\",\"bbb\",\"cc\"]), max_len([\"alpha\",\"beta\",\"gamma\"])"
   ]
  },
  {
   "cell_type": "code",
   "execution_count": 4,
   "id": "d1ef8bcc-7ba9-48db-b85d-094daddc56e1",
   "metadata": {},
   "outputs": [
    {
     "name": "stdin",
     "output_type": "stream",
     "text": [
      "나이를 입력하세요: 33\n"
     ]
    },
    {
     "name": "stdout",
     "output_type": "stream",
     "text": [
      "성인입니다.\n"
     ]
    }
   ],
   "source": [
    "age = int(input(\"나이를 입력하세요:\"))\n",
    "\n",
    "if age < 13:\n",
    "    print(\"어린이입니다.\")\n",
    "if age < 20:\n",
    "    print(\"청소년입니다.\")\n",
    "elif age < 65:\n",
    "    print(\"성인입니다.\")\n",
    "else:\n",
    "    print(\"노인입니다.\")\n",
    "    "
   ]
  },
  {
   "cell_type": "code",
   "execution_count": 7,
   "id": "96917f96-f625-477c-bc0f-fd352617fcb8",
   "metadata": {},
   "outputs": [
    {
     "name": "stdin",
     "output_type": "stream",
     "text": [
      "첫번째 숫자:  2\n",
      "두번째 숫자:  3\n",
      "연산자(+,-,*,/):  *\n"
     ]
    },
    {
     "name": "stdout",
     "output_type": "stream",
     "text": [
      "결과: 6.0\n"
     ]
    }
   ],
   "source": [
    "def calc(a: float, b: float, op: str) -> float:\n",
    "##변수 이름이 def인 게 아니라, ‘함수 만든다’는 명령어예요.\n",
    "    if op == \"+\":\n",
    "        return a+b\n",
    "    elif op == \"-\":\n",
    "        return a-b\n",
    "    elif op == \"*\":\n",
    "        return a*b\n",
    "    elif op == \"/\":\n",
    "        if b == 0:\n",
    "            return \"0으로 나눌 수 없음.\"\n",
    "        return a/b\n",
    "    else:\n",
    "        return \"지원하지않는 연산자입니다.\"\n",
    "\n",
    "x = float(input(\"첫번째 숫자: \"))\n",
    "y = float(input(\"두번째 숫자: \"))\n",
    "op = input(\"연산자(+,-,*,/): \")\n",
    "\n",
    "print(\"결과:\", calc(x,y,op))"
   ]
  }
 ],
 "metadata": {
  "kernelspec": {
   "display_name": "Python (conda ds)",
   "language": "python",
   "name": "ds"
  },
  "language_info": {
   "codemirror_mode": {
    "name": "ipython",
    "version": 3
   },
   "file_extension": ".py",
   "mimetype": "text/x-python",
   "name": "python",
   "nbconvert_exporter": "python",
   "pygments_lexer": "ipython3",
   "version": "3.11.13"
  }
 },
 "nbformat": 4,
 "nbformat_minor": 5
}
