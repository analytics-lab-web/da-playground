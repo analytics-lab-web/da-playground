{
 "cells": [
  {
   "cell_type": "code",
   "execution_count": 6,
   "id": "a6d889ae-cf88-42af-ac30-b4674c544348",
   "metadata": {},
   "outputs": [
    {
     "name": "stdout",
     "output_type": "stream",
     "text": [
      "원본 데이터 크기: (6, 5)\n"
     ]
    },
    {
     "data": {
      "text/html": [
       "<div>\n",
       "<style scoped>\n",
       "    .dataframe tbody tr th:only-of-type {\n",
       "        vertical-align: middle;\n",
       "    }\n",
       "\n",
       "    .dataframe tbody tr th {\n",
       "        vertical-align: top;\n",
       "    }\n",
       "\n",
       "    .dataframe thead th {\n",
       "        text-align: right;\n",
       "    }\n",
       "</style>\n",
       "<table border=\"1\" class=\"dataframe\">\n",
       "  <thead>\n",
       "    <tr style=\"text-align: right;\">\n",
       "      <th></th>\n",
       "      <th>date</th>\n",
       "      <th>product</th>\n",
       "      <th>region</th>\n",
       "      <th>price</th>\n",
       "      <th>quantity</th>\n",
       "    </tr>\n",
       "  </thead>\n",
       "  <tbody>\n",
       "    <tr>\n",
       "      <th>0</th>\n",
       "      <td>2025-01-01</td>\n",
       "      <td>Keyboard</td>\n",
       "      <td>Seoul</td>\n",
       "      <td>25000</td>\n",
       "      <td>3</td>\n",
       "    </tr>\n",
       "    <tr>\n",
       "      <th>1</th>\n",
       "      <td>2025-01-02</td>\n",
       "      <td>Mouse</td>\n",
       "      <td>Busan</td>\n",
       "      <td>12000</td>\n",
       "      <td>5</td>\n",
       "    </tr>\n",
       "    <tr>\n",
       "      <th>2</th>\n",
       "      <td>2025-01-03</td>\n",
       "      <td>Keyboard</td>\n",
       "      <td>Seoul</td>\n",
       "      <td>25000</td>\n",
       "      <td>2</td>\n",
       "    </tr>\n",
       "    <tr>\n",
       "      <th>3</th>\n",
       "      <td>2025-01-04</td>\n",
       "      <td>Monitor</td>\n",
       "      <td>Incheon</td>\n",
       "      <td>180000</td>\n",
       "      <td>1</td>\n",
       "    </tr>\n",
       "    <tr>\n",
       "      <th>4</th>\n",
       "      <td>2025-01-05</td>\n",
       "      <td>Mouse</td>\n",
       "      <td>Seoul</td>\n",
       "      <td>12000</td>\n",
       "      <td>7</td>\n",
       "    </tr>\n",
       "  </tbody>\n",
       "</table>\n",
       "</div>"
      ],
      "text/plain": [
       "         date   product   region   price  quantity\n",
       "0  2025-01-01  Keyboard    Seoul   25000         3\n",
       "1  2025-01-02     Mouse    Busan   12000         5\n",
       "2  2025-01-03  Keyboard    Seoul   25000         2\n",
       "3  2025-01-04   Monitor  Incheon  180000         1\n",
       "4  2025-01-05     Mouse    Seoul   12000         7"
      ]
     },
     "metadata": {},
     "output_type": "display_data"
    },
    {
     "name": "stdout",
     "output_type": "stream",
     "text": [
      "\n",
      "제품별 매출 합계\n"
     ]
    },
    {
     "data": {
      "text/html": [
       "<div>\n",
       "<style scoped>\n",
       "    .dataframe tbody tr th:only-of-type {\n",
       "        vertical-align: middle;\n",
       "    }\n",
       "\n",
       "    .dataframe tbody tr th {\n",
       "        vertical-align: top;\n",
       "    }\n",
       "\n",
       "    .dataframe thead th {\n",
       "        text-align: right;\n",
       "    }\n",
       "</style>\n",
       "<table border=\"1\" class=\"dataframe\">\n",
       "  <thead>\n",
       "    <tr style=\"text-align: right;\">\n",
       "      <th></th>\n",
       "      <th>product</th>\n",
       "      <th>revenue</th>\n",
       "    </tr>\n",
       "  </thead>\n",
       "  <tbody>\n",
       "    <tr>\n",
       "      <th>1</th>\n",
       "      <td>Monitor</td>\n",
       "      <td>540000</td>\n",
       "    </tr>\n",
       "    <tr>\n",
       "      <th>2</th>\n",
       "      <td>Mouse</td>\n",
       "      <td>144000</td>\n",
       "    </tr>\n",
       "    <tr>\n",
       "      <th>0</th>\n",
       "      <td>Keyboard</td>\n",
       "      <td>125000</td>\n",
       "    </tr>\n",
       "  </tbody>\n",
       "</table>\n",
       "</div>"
      ],
      "text/plain": [
       "    product  revenue\n",
       "1   Monitor   540000\n",
       "2     Mouse   144000\n",
       "0  Keyboard   125000"
      ]
     },
     "metadata": {},
     "output_type": "display_data"
    },
    {
     "name": "stdout",
     "output_type": "stream",
     "text": [
      "\n",
      "저장 완료: C:\\Users\\user\\Documents\\da-playground\\data\\processed\\sales_clean.csv\n"
     ]
    }
   ],
   "source": [
    "import pandas as pd\n",
    "from pathlib import Path\n",
    "\n",
    "# 1) 경로 설정\n",
    "RAW = Path(\"../data/raw\")          # 원본 데이터 위치\n",
    "PROCESSED = Path(\"../data/processed\")  # 전처리된 데이터 저장 위치\n",
    "PROCESSED.mkdir(parents=True, exist_ok=True)  # 폴더가 없으면 자동 생성\n",
    "\n",
    "# 2) CSV 불러오기\n",
    "df = pd.read_csv(RAW / \"sales.csv\")   # data/raw/sales.csv 읽기\n",
    "print(\"원본 데이터 크기:\", df.shape)\n",
    "display(df.head())   # 앞부분 미리보기\n",
    "\n",
    "# 3) 날짜 컬럼 변환 (문자열 → 날짜형식)\n",
    "df[\"date\"] = pd.to_datetime(df[\"date\"])\n",
    "\n",
    "# 4) 매출액(revenue) 계산: 가격(price) × 수량(quantity)\n",
    "df[\"revenue\"] = df[\"price\"] * df[\"quantity\"]\n",
    "\n",
    "# 5) 제품별 매출 합계 요약\n",
    "summary = df.groupby(\"product\", as_index=False)[\"revenue\"].sum().sort_values(\"revenue\", ascending=False)\n",
    "print(\"\\n제품별 매출 합계\")\n",
    "display(summary)\n",
    "\n",
    "# 6) 전처리된 데이터 저장\n",
    "out_path = PROCESSED / \"sales_clean.csv\"\n",
    "df.to_csv(out_path, index=False)\n",
    "print(\"\\n저장 완료:\", out_path.resolve())\n"
   ]
  },
  {
   "cell_type": "code",
   "execution_count": 4,
   "id": "7b3961ce-1100-4996-96d8-bd367f572308",
   "metadata": {},
   "outputs": [
    {
     "name": "stdout",
     "output_type": "stream",
     "text": [
      "현재 작업폴더: C:\\Users\\user\\Documents\\da-playground\\notebooks\n",
      "찾을 폴더 존재? C:\\Users\\user\\Documents\\da-playground\\data\\raw => True\n",
      "그 폴더 안 파일 목록: ['.gitkeep', 'sales.csv.txt']\n"
     ]
    }
   ],
   "source": [
    "from pathlib import Path\n",
    "\n",
    "print(\"현재 작업폴더:\", Path.cwd())\n",
    "p = Path(\"../data/raw\")\n",
    "print(\"찾을 폴더 존재?\", p.resolve(), \"=>\", p.exists())\n",
    "print(\"그 폴더 안 파일 목록:\", [x.name for x in p.glob(\"*\")])"
   ]
  },
  {
   "cell_type": "code",
   "execution_count": 5,
   "id": "f2b401f0-d5b9-49f8-bec5-675c67397818",
   "metadata": {},
   "outputs": [
    {
     "name": "stdout",
     "output_type": "stream",
     "text": [
      "이름 변경 완료: C:\\Users\\user\\Documents\\da-playground\\data\\raw\\sales.csv\n"
     ]
    }
   ],
   "source": [
    "from pathlib import Path\n",
    "src = Path(\"../data/raw/sales.csv.txt\")\n",
    "dst = Path(\"../data/raw/sales.csv\")\n",
    "if src.exists():\n",
    "    src.rename(dst)\n",
    "    print(\"이름 변경 완료:\", dst.resolve())\n",
    "else:\n",
    "    print(\"대상 파일이 없습니다:\", src.resolve())"
   ]
  },
  {
   "cell_type": "code",
   "execution_count": null,
   "id": "3d6d4c12-5af9-46ba-a0d2-3fbafedc55ec",
   "metadata": {},
   "outputs": [],
   "source": []
  }
 ],
 "metadata": {
  "kernelspec": {
   "display_name": "Python 3 (ipykernel)",
   "language": "python",
   "name": "python3"
  },
  "language_info": {
   "codemirror_mode": {
    "name": "ipython",
    "version": 3
   },
   "file_extension": ".py",
   "mimetype": "text/x-python",
   "name": "python",
   "nbconvert_exporter": "python",
   "pygments_lexer": "ipython3",
   "version": "3.13.5"
  }
 },
 "nbformat": 4,
 "nbformat_minor": 5
}
