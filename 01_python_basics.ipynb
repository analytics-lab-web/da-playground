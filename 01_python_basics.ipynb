{
 "cells": [
  {
   "cell_type": "code",
   "execution_count": 5,
   "id": "f7433ba2-0957-4a75-a82a-0b7a577e2865",
   "metadata": {},
   "outputs": [
    {
     "data": {
      "text/plain": [
       "(10, 3.5, 'Alice', True)"
      ]
     },
     "execution_count": 5,
     "metadata": {},
     "output_type": "execute_result"
    }
   ],
   "source": [
    "total = 10\n",
    "price = 3.5\n",
    "name = 'Alice'\n",
    "is_vip = True\n",
    "\n",
    "total, price, name, is_vip\n"
   ]
  },
  {
   "cell_type": "code",
   "execution_count": 3,
   "id": "fe546d61-0b25-4c83-8faf-b9f2bdd95921",
   "metadata": {},
   "outputs": [
    {
     "data": {
      "text/plain": [
       "(7, 5)"
      ]
     },
     "execution_count": 3,
     "metadata": {},
     "output_type": "execute_result"
    }
   ],
   "source": [
    "a = 5\n",
    "b = a\n",
    "a = 7\n",
    "a,b"
   ]
  },
  {
   "cell_type": "code",
   "execution_count": 6,
   "id": "57bfc087-7b9b-41d2-81b0-3b4477179074",
   "metadata": {},
   "outputs": [
    {
     "data": {
      "text/plain": [
       "(int, float, bool, str, list, dict, set, NoneType)"
      ]
     },
     "execution_count": 6,
     "metadata": {},
     "output_type": "execute_result"
    }
   ],
   "source": [
    "# 형 확인\n",
    "type(10), type(3.14), type(True), type(\"hi\"), type([1,2]), type({\"a\":1}), type({1,2}), type(None)"
   ]
  },
  {
   "cell_type": "code",
   "execution_count": 9,
   "id": "1720eee9-f30b-47ba-8eae-c3103260a4c7",
   "metadata": {},
   "outputs": [
    {
     "data": {
      "text/plain": [
       "(10, 3.5, '123')"
      ]
     },
     "execution_count": 9,
     "metadata": {},
     "output_type": "execute_result"
    }
   ],
   "source": [
    "int(\"10\"), float(\"3.5\"), str(123)"
   ]
  },
  {
   "cell_type": "code",
   "execution_count": 10,
   "id": "3ba3385e-979d-4253-9674-c04817c2d277",
   "metadata": {},
   "outputs": [
    {
     "data": {
      "text/plain": [
       "(False, False, False, True)"
      ]
     },
     "execution_count": 10,
     "metadata": {},
     "output_type": "execute_result"
    }
   ],
   "source": [
    "bool(0), bool(\"\"),bool([]), bool([1])"
   ]
  },
  {
   "cell_type": "code",
   "execution_count": 12,
   "id": "ce6b5531-caaa-469c-ac1e-9c662c5ba588",
   "metadata": {},
   "outputs": [
    {
     "data": {
      "text/plain": [
       "0.30000000000000004"
      ]
     },
     "execution_count": 12,
     "metadata": {},
     "output_type": "execute_result"
    }
   ],
   "source": [
    "0.1 + 0.2"
   ]
  },
  {
   "cell_type": "code",
   "execution_count": 15,
   "id": "e54ca10d-203f-4ba3-ad3c-3aa31afd8c66",
   "metadata": {},
   "outputs": [
    {
     "data": {
      "text/plain": [
       "0.3"
      ]
     },
     "execution_count": 15,
     "metadata": {},
     "output_type": "execute_result"
    }
   ],
   "source": [
    "round(0.1 + 0.2, 5)"
   ]
  },
  {
   "cell_type": "code",
   "execution_count": 16,
   "id": "7510d704-1287-4f16-9ad1-bb25b5638e1a",
   "metadata": {},
   "outputs": [
    {
     "data": {
      "text/plain": [
       "2"
      ]
     },
     "execution_count": 16,
     "metadata": {},
     "output_type": "execute_result"
    }
   ],
   "source": [
    "5//2"
   ]
  },
  {
   "cell_type": "code",
   "execution_count": 17,
   "id": "ddc8929a-e850-433d-b1ab-9da918d1635c",
   "metadata": {},
   "outputs": [
    {
     "data": {
      "text/plain": [
       "1"
      ]
     },
     "execution_count": 17,
     "metadata": {},
     "output_type": "execute_result"
    }
   ],
   "source": [
    "5%2"
   ]
  },
  {
   "cell_type": "code",
   "execution_count": 25,
   "id": "7e7a03fd-ac01-491e-b19a-f386e38ffaba",
   "metadata": {},
   "outputs": [
    {
     "name": "stdout",
     "output_type": "stream",
     "text": [
      "26\n"
     ]
    }
   ],
   "source": [
    "X = 10\n",
    "X += 3\n",
    "X *= 2\n",
    "print (X)"
   ]
  },
  {
   "cell_type": "code",
   "execution_count": 27,
   "id": "3da83e8e-54dd-49fe-be7a-5a15e67746e0",
   "metadata": {},
   "outputs": [
    {
     "data": {
      "text/plain": [
       "(True, True, True, True, False)"
      ]
     },
     "execution_count": 27,
     "metadata": {},
     "output_type": "execute_result"
    }
   ],
   "source": [
    "3==3, 3 !=4, 3<5, 3>=2, 3>=4"
   ]
  },
  {
   "cell_type": "code",
   "execution_count": 28,
   "id": "fc96dff2-baa3-4b26-84cc-2c4c3935330d",
   "metadata": {},
   "outputs": [
    {
     "data": {
      "text/plain": [
       "(True, True, True)"
      ]
     },
     "execution_count": 28,
     "metadata": {},
     "output_type": "execute_result"
    }
   ],
   "source": [
    "\"a\" in \"cat\", 2 in [1,2,3], \"z\" not in \"cat\""
   ]
  },
  {
   "cell_type": "code",
   "execution_count": 36,
   "id": "740c4f18-d110-471c-9cf6-863c0cde40c1",
   "metadata": {},
   "outputs": [
    {
     "data": {
      "text/plain": [
       "(True, False, True)"
      ]
     },
     "execution_count": 36,
     "metadata": {},
     "output_type": "execute_result"
    }
   ],
   "source": [
    "a= [1,2]; b=a; c= [1,2]\n",
    "a is b, a is c, a == c\n"
   ]
  },
  {
   "cell_type": "code",
   "execution_count": 44,
   "id": "6b477297-dab6-46b0-95f2-b96f15c04be0",
   "metadata": {},
   "outputs": [
    {
     "data": {
      "text/plain": [
       "('Data', 'Science', 'Dt cec')"
      ]
     },
     "execution_count": 44,
     "metadata": {},
     "output_type": "execute_result"
    }
   ],
   "source": [
    "s = \"Data Science\"\n",
    "len(s)\n",
    "s[0], s[-1]\n",
    "s[0:4]\n",
    "s[:4], s[5:],s[::2]"
   ]
  },
  {
   "cell_type": "code",
   "execution_count": 45,
   "id": "d974c897-975d-4a0b-a6e8-6a8f693b91db",
   "metadata": {},
   "outputs": [
    {
     "data": {
      "text/plain": [
       "'Hello, World'"
      ]
     },
     "execution_count": 45,
     "metadata": {},
     "output_type": "execute_result"
    }
   ],
   "source": [
    "\"Hello, \" + \"World\""
   ]
  },
  {
   "cell_type": "code",
   "execution_count": 46,
   "id": "6a24233e-41cc-4477-a120-9627e2ceae64",
   "metadata": {},
   "outputs": [
    {
     "data": {
      "text/plain": [
       "'hahaha'"
      ]
     },
     "execution_count": 46,
     "metadata": {},
     "output_type": "execute_result"
    }
   ],
   "source": [
    "\"ha\"*3"
   ]
  },
  {
   "cell_type": "code",
   "execution_count": 47,
   "id": "47f38cbb-44c0-4c84-8387-232ef900d7fa",
   "metadata": {},
   "outputs": [
    {
     "data": {
      "text/plain": [
       "True"
      ]
     },
     "execution_count": 47,
     "metadata": {},
     "output_type": "execute_result"
    }
   ],
   "source": [
    "\"Data\" in s"
   ]
  },
  {
   "cell_type": "code",
   "execution_count": 52,
   "id": "71c06de8-2817-48ba-8b03-4d643884916e",
   "metadata": {},
   "outputs": [
    {
     "data": {
      "text/plain": [
       "' hello, Python! '"
      ]
     },
     "execution_count": 52,
     "metadata": {},
     "output_type": "execute_result"
    }
   ],
   "source": [
    "txt = \" hello, World! \"\n",
    "txt.strip()\n",
    "txt.lower(), txt.upper()\n",
    "txt.replace(\"World\", \"Python\")\n"
   ]
  },
  {
   "cell_type": "code",
   "execution_count": 54,
   "id": "21a9ff99-4775-4e3c-be48-bf5b9d2b2147",
   "metadata": {},
   "outputs": [
    {
     "data": {
      "text/plain": [
       "'2025-09-13'"
      ]
     },
     "execution_count": 54,
     "metadata": {},
     "output_type": "execute_result"
    }
   ],
   "source": [
    "\"apple, banana,grape\".split(\",\")\n",
    "\"-\".join([\"2025\",\"09\",\"13\"])"
   ]
  },
  {
   "cell_type": "code",
   "execution_count": 55,
   "id": "19547926-bc61-4e5c-bf25-0c39fc9dbf40",
   "metadata": {},
   "outputs": [
    {
     "data": {
      "text/plain": [
       "(2, 4, -1)"
      ]
     },
     "execution_count": 55,
     "metadata": {},
     "output_type": "execute_result"
    }
   ],
   "source": [
    "\"datascience\".count(\"e\"), \"datascience\".find(\"s\"), \"datascience\".find(\"x\")"
   ]
  },
  {
   "cell_type": "code",
   "execution_count": 59,
   "id": "9665749a-f99b-4451-a60a-1533a6346b31",
   "metadata": {},
   "outputs": [
    {
     "data": {
      "text/plain": [
       "'|  Alice   |'"
      ]
     },
     "execution_count": 59,
     "metadata": {},
     "output_type": "execute_result"
    }
   ],
   "source": [
    "name = \"Alice\"; score = 93.456\n",
    "f\"{name}님의 점수는 {score:.2f}점입니다.\"\n",
    "f\"{123:06d}\"\n",
    "f\"|{name:^10}|\""
   ]
  },
  {
   "cell_type": "code",
   "execution_count": 66,
   "id": "ded13e5c-b336-4d51-becf-d7dc4e49452e",
   "metadata": {},
   "outputs": [
    {
     "name": "stdout",
     "output_type": "stream",
     "text": [
      "Data Science\n"
     ]
    },
    {
     "ename": "NameError",
     "evalue": "name 'p1' is not defined",
     "output_type": "error",
     "traceback": [
      "\u001b[1;31m---------------------------------------------------------------------------\u001b[0m",
      "\u001b[1;31mNameError\u001b[0m                                 Traceback (most recent call last)",
      "Cell \u001b[1;32mIn[66], line 5\u001b[0m\n\u001b[0;32m      2\u001b[0m \u001b[38;5;28mprint\u001b[39m(s)\n\u001b[0;32m      3\u001b[0m \u001b[38;5;124mr\u001b[39m\u001b[38;5;124m\"\u001b[39m\u001b[38;5;124mC:\u001b[39m\u001b[38;5;124m\\\u001b[39m\u001b[38;5;124mUsers\u001b[39m\u001b[38;5;124m\\\u001b[39m\u001b[38;5;124mname\u001b[39m\u001b[38;5;124m\"\u001b[39m\n\u001b[1;32m----> 5\u001b[0m \u001b[38;5;28mprint\u001b[39m(p1)\n",
      "\u001b[1;31mNameError\u001b[0m: name 'p1' is not defined"
     ]
    }
   ],
   "source": [
    "\"line1\\nline2\\t(tab)\"\n",
    "print(s)\n",
    "r\"C:\\Users\\name\"\n",
    "\n",
    "print(p1)"
   ]
  },
  {
   "cell_type": "code",
   "execution_count": 70,
   "id": "533f5aa6-7fc6-425c-b06c-a0bb393bcee8",
   "metadata": {},
   "outputs": [
    {
     "data": {
      "text/plain": [
       "\"'여러 줄\\\\n문자열도\\\\n가능'\""
      ]
     },
     "execution_count": 70,
     "metadata": {},
     "output_type": "execute_result"
    }
   ],
   "source": [
    "multi = \"\"\"여러 줄\n",
    "문자열도\n",
    "가능\"\"\"\n",
    "repr(multi)"
   ]
  },
  {
   "cell_type": "code",
   "execution_count": null,
   "id": "5ab07f78-c482-4212-ad70-406281c15d0e",
   "metadata": {},
   "outputs": [],
   "source": []
  }
 ],
 "metadata": {
  "kernelspec": {
   "display_name": "Python 3 (ipykernel)",
   "language": "python",
   "name": "python3"
  },
  "language_info": {
   "codemirror_mode": {
    "name": "ipython",
    "version": 3
   },
   "file_extension": ".py",
   "mimetype": "text/x-python",
   "name": "python",
   "nbconvert_exporter": "python",
   "pygments_lexer": "ipython3",
   "version": "3.13.5"
  }
 },
 "nbformat": 4,
 "nbformat_minor": 5
}
